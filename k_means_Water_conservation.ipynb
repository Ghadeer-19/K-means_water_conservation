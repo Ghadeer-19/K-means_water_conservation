{
 "cells": [
  {
   "cell_type": "markdown",
   "metadata": {},
   "source": [
    "## Risk assessment and water conservation Model"
   ]
  },
  {
   "cell_type": "markdown",
   "metadata": {},
   "source": [
    "### 1. Uploading the data"
   ]
  },
  {
   "cell_type": "code",
   "execution_count": 1,
   "metadata": {
    "scrolled": false
   },
   "outputs": [
    {
     "data": {
      "text/html": [
       "<div>\n",
       "<style scoped>\n",
       "    .dataframe tbody tr th:only-of-type {\n",
       "        vertical-align: middle;\n",
       "    }\n",
       "\n",
       "    .dataframe tbody tr th {\n",
       "        vertical-align: top;\n",
       "    }\n",
       "\n",
       "    .dataframe thead th {\n",
       "        text-align: right;\n",
       "    }\n",
       "</style>\n",
       "<table border=\"1\" class=\"dataframe\">\n",
       "  <thead>\n",
       "    <tr style=\"text-align: right;\">\n",
       "      <th></th>\n",
       "      <th>Date</th>\n",
       "      <th>Consumption</th>\n",
       "      <th>Meter</th>\n",
       "    </tr>\n",
       "  </thead>\n",
       "  <tbody>\n",
       "    <tr>\n",
       "      <th>0</th>\n",
       "      <td>2022-01-22</td>\n",
       "      <td>2290</td>\n",
       "      <td>19240202</td>\n",
       "    </tr>\n",
       "    <tr>\n",
       "      <th>1</th>\n",
       "      <td>2022-02-22</td>\n",
       "      <td>4988</td>\n",
       "      <td>19240202</td>\n",
       "    </tr>\n",
       "    <tr>\n",
       "      <th>2</th>\n",
       "      <td>2022-03-22</td>\n",
       "      <td>4648</td>\n",
       "      <td>19240202</td>\n",
       "    </tr>\n",
       "    <tr>\n",
       "      <th>3</th>\n",
       "      <td>2022-04-22</td>\n",
       "      <td>5145</td>\n",
       "      <td>19240202</td>\n",
       "    </tr>\n",
       "    <tr>\n",
       "      <th>4</th>\n",
       "      <td>2022-05-22</td>\n",
       "      <td>5887</td>\n",
       "      <td>19240202</td>\n",
       "    </tr>\n",
       "  </tbody>\n",
       "</table>\n",
       "</div>"
      ],
      "text/plain": [
       "        Date  Consumption     Meter\n",
       "0 2022-01-22         2290  19240202\n",
       "1 2022-02-22         4988  19240202\n",
       "2 2022-03-22         4648  19240202\n",
       "3 2022-04-22         5145  19240202\n",
       "4 2022-05-22         5887  19240202"
      ]
     },
     "execution_count": 1,
     "metadata": {},
     "output_type": "execute_result"
    }
   ],
   "source": [
    "import pandas as pd\n",
    "import numpy as np\n",
    "import seaborn as sns\n",
    "import matplotlib.pyplot as plt\n",
    "from sklearn.cluster import KMeans\n",
    "filepath= \"/Users/Deeroo/Downloads/SayaData/ACAMA_Monthly.csv\"\n",
    "ACMA_DF= pd.read_csv(filepath)\n",
    "ACMA_DF['Meter']= ACMA_DF.Meter.astype(str)\n",
    "ACMA_DF['Consumption']= ACMA_DF.Consumption.astype(int)\n",
    "ACMA_DF['Date']= pd.to_datetime(ACMA_DF['Date'])\n",
    "ACMA_DF.head()"
   ]
  },
  {
   "cell_type": "markdown",
   "metadata": {},
   "source": [
    "### 2. Feature engineering"
   ]
  },
  {
   "cell_type": "code",
   "execution_count": 2,
   "metadata": {
    "scrolled": false
   },
   "outputs": [
    {
     "data": {
      "text/html": [
       "<div>\n",
       "<style scoped>\n",
       "    .dataframe tbody tr th:only-of-type {\n",
       "        vertical-align: middle;\n",
       "    }\n",
       "\n",
       "    .dataframe tbody tr th {\n",
       "        vertical-align: top;\n",
       "    }\n",
       "\n",
       "    .dataframe thead th {\n",
       "        text-align: right;\n",
       "    }\n",
       "</style>\n",
       "<table border=\"1\" class=\"dataframe\">\n",
       "  <thead>\n",
       "    <tr style=\"text-align: right;\">\n",
       "      <th></th>\n",
       "      <th>Date</th>\n",
       "      <th>Consumption</th>\n",
       "      <th>Meter</th>\n",
       "      <th>No_Occupants</th>\n",
       "      <th>Avg_person</th>\n",
       "      <th>Month</th>\n",
       "    </tr>\n",
       "  </thead>\n",
       "  <tbody>\n",
       "    <tr>\n",
       "      <th>0</th>\n",
       "      <td>2022-01-22</td>\n",
       "      <td>2290</td>\n",
       "      <td>19240202</td>\n",
       "      <td>2</td>\n",
       "      <td>1145</td>\n",
       "      <td>1</td>\n",
       "    </tr>\n",
       "    <tr>\n",
       "      <th>1</th>\n",
       "      <td>2022-02-22</td>\n",
       "      <td>4988</td>\n",
       "      <td>19240202</td>\n",
       "      <td>2</td>\n",
       "      <td>2494</td>\n",
       "      <td>2</td>\n",
       "    </tr>\n",
       "    <tr>\n",
       "      <th>2</th>\n",
       "      <td>2022-03-22</td>\n",
       "      <td>4648</td>\n",
       "      <td>19240202</td>\n",
       "      <td>2</td>\n",
       "      <td>2324</td>\n",
       "      <td>3</td>\n",
       "    </tr>\n",
       "    <tr>\n",
       "      <th>3</th>\n",
       "      <td>2022-04-22</td>\n",
       "      <td>5145</td>\n",
       "      <td>19240202</td>\n",
       "      <td>2</td>\n",
       "      <td>2572</td>\n",
       "      <td>4</td>\n",
       "    </tr>\n",
       "    <tr>\n",
       "      <th>4</th>\n",
       "      <td>2022-05-22</td>\n",
       "      <td>5887</td>\n",
       "      <td>19240202</td>\n",
       "      <td>2</td>\n",
       "      <td>2943</td>\n",
       "      <td>5</td>\n",
       "    </tr>\n",
       "  </tbody>\n",
       "</table>\n",
       "</div>"
      ],
      "text/plain": [
       "        Date  Consumption     Meter  No_Occupants  Avg_person  Month\n",
       "0 2022-01-22         2290  19240202             2        1145      1\n",
       "1 2022-02-22         4988  19240202             2        2494      2\n",
       "2 2022-03-22         4648  19240202             2        2324      3\n",
       "3 2022-04-22         5145  19240202             2        2572      4\n",
       "4 2022-05-22         5887  19240202             2        2943      5"
      ]
     },
     "execution_count": 2,
     "metadata": {},
     "output_type": "execute_result"
    }
   ],
   "source": [
    "#Mapping the occupants with the meters \n",
    "Occupants_num = {'19240202': 2, '19240208': 4 , \n",
    "                '19240210': 4, '19240215': 2 , \n",
    "                '19240216': 2, '19240218': 2 ,\n",
    "                '19240219': 3, '19240220': 4 ,\n",
    "                '19240221': 2 }\n",
    "#Adding the needed features \n",
    "ACMA_DF[\"No_Occupants\"]= ACMA_DF.Meter.map(Occupants_num)\n",
    "ACMA_DF['Avg_person']= ACMA_DF['Consumption']/ ACMA_DF['No_Occupants']\n",
    "ACMA_DF['Avg_person'] = ACMA_DF['Avg_person'].astype(int)\n",
    "ACMA_DF[\"Month\"]=ACMA_DF.Date.dt.month\n",
    "ACMA_DF.head()"
   ]
  },
  {
   "cell_type": "markdown",
   "metadata": {},
   "source": [
    "### 3. Data visualization"
   ]
  },
  {
   "cell_type": "code",
   "execution_count": 3,
   "metadata": {
    "scrolled": true
   },
   "outputs": [
    {
     "data": {
      "text/plain": [
       "<matplotlib.axes._subplots.AxesSubplot at 0x7f7f71ba40d0>"
      ]
     },
     "execution_count": 3,
     "metadata": {},
     "output_type": "execute_result"
    },
    {
     "data": {
      "image/png": "[encoded data removed]",
      "text/plain": [
       "<Figure size 432x288 with 1 Axes>"
      ]
     },
     "metadata": {
      "needs_background": "light"
     },
     "output_type": "display_data"
    }
   ],
   "source": [
    "# visualizing the data distribution\n",
    "sns.distplot(ACMA_DF.Consumption)"
   ]
  },
  {
   "cell_type": "code",
   "execution_count": 6,
   "metadata": {
    "scrolled": false
   },
   "outputs": [
    {
     "data": {
      "image/png": "[encoded data removed]",
      "text/plain": [
       "<Figure size 432x288 with 1 Axes>"
      ]
     },
     "metadata": {
      "needs_background": "light"
     },
     "output_type": "display_data"
    }
   ],
   "source": [
    "#Plotting the data(consumption Vs. Months )\n",
    "plt.scatter(ACMA_DF[\"Month\"], ACMA_DF[\"Consumption\"],\n",
    "                marker=\"x\", color='#1E90FF', s=15 ,alpha=1)  \n",
    "plt.xlabel('Month', fontsize=13)\n",
    "plt.ylabel('Water Consumption', fontsize=13)\n",
    "plt.title(\"The Water Consumption Vs. Months\")\n",
    "plt.show()\n"
   ]
  },
  {
   "cell_type": "code",
   "execution_count": 7,
   "metadata": {
    "scrolled": true
   },
   "outputs": [
    {
     "data": {
      "image/png": "[encoded data removed]",
      "text/plain": [
       "<Figure size 432x288 with 1 Axes>"
      ]
     },
     "metadata": {
      "needs_background": "light"
     },
     "output_type": "display_data"
    }
   ],
   "source": [
    "# Creating dataset for the boxplot\n",
    "\n",
    "data_2 = ACMA_DF[ACMA_DF.No_Occupants==2]\n",
    "data_2 = np.array(data_2.Consumption)\n",
    "data_3 = ACMA_DF[ACMA_DF.No_Occupants==3]\n",
    "data_3 = np.array(data_3.Consumption)\n",
    "data_4 = ACMA_DF[ACMA_DF.No_Occupants==4]\n",
    "data_4 = np.array(data_4.Consumption)\n",
    "data = [data_2, data_3, data_4]\n",
    "fig = plt.figure(figsize =(6, 4))\n",
    "\n",
    "# Creating axes instance\n",
    "ax = fig.add_axes([0, 0, 1, 1])\n",
    "# Creating plot\n",
    "bp = ax.boxplot(data)\n",
    "ax.set(title='Comparison of Water Consumption Across Number of Occupants',\n",
    "    xlabel='Number of Occupants',\n",
    "    ylabel='Monthly Consumption')\n",
    "# show plot\n",
    "plt.show()"
   ]
  },
  {
   "cell_type": "markdown",
   "metadata": {},
   "source": [
    "### 4. Data Modeling "
   ]
  },
  {
   "cell_type": "code",
   "execution_count": 8,
   "metadata": {},
   "outputs": [
    {
     "name": "stderr",
     "output_type": "stream",
     "text": [
      "/Users/Deeroo/opt/anaconda3/lib/python3.7/site-packages/ipykernel_launcher.py:3: DeprecationWarning: in the future out of bounds indices will raise an error instead of being ignored by `numpy.delete`.\n",
      "  This is separate from the ipykernel package so we can avoid doing imports until\n"
     ]
    },
    {
     "data": {
      "text/plain": [
       "array([[2290, 1145],\n",
       "       [4988, 2494],\n",
       "       [4648, 2324],\n",
       "       [5145, 2572],\n",
       "       [5887, 2943]], dtype=object)"
      ]
     },
     "execution_count": 8,
     "metadata": {},
     "output_type": "execute_result"
    }
   ],
   "source": [
    "#Preparing the data \n",
    "ACMA_Array= np.array(ACMA_DF)\n",
    "ACMA_Array= np.delete(ACMA_Array, [0,2,3,5,6,7],1)\n",
    "ACMA_Array[0:5]"
   ]
  },
  {
   "cell_type": "code",
   "execution_count": 9,
   "metadata": {
    "scrolled": true
   },
   "outputs": [
    {
     "data": {
      "text/plain": [
       "array([[1654.48979592,  733.97959184],\n",
       "       [4658.94117647, 1737.82352941],\n",
       "       [7289.16      , 2080.28      ]])"
      ]
     },
     "execution_count": 9,
     "metadata": {},
     "output_type": "execute_result"
    }
   ],
   "source": [
    "# Model initiation \n",
    "Model = KMeans(n_clusters= 3)\n",
    "Model.fit(ACMA_Array)\n",
    "centroids= Model.cluster_centers_\n",
    "labels= Model.labels_\n",
    "centroids\n"
   ]
  },
  {
   "cell_type": "code",
   "execution_count": 10,
   "metadata": {},
   "outputs": [],
   "source": [
    "#Adding the label to the dataframe\n",
    "ACMA_DF[\"label\"]= labels"
   ]
  },
  {
   "cell_type": "code",
   "execution_count": 23,
   "metadata": {},
   "outputs": [
    {
     "data": {
      "image/png": "[encoded data removed]",
      "text/plain": [
       "<Figure size 432x288 with 1 Axes>"
      ]
     },
     "metadata": {
      "needs_background": "light"
     },
     "output_type": "display_data"
    }
   ],
   "source": [
    "#Visualizing the data post the k-Means \n",
    "\n",
    "plt.scatter(ACMA_DF[\"Avg_person\"], ACMA_DF[\"Consumption\"], color='#1E90FF', s=20 ,alpha=1)  \n",
    "plt.xlabel('Avg per person', fontsize=10)\n",
    "plt.ylabel('Monthly Consumption', fontsize=10)\n",
    "plt.title(\"The Data Pre-kmeans\")\n",
    "plt.show()\n"
   ]
  },
  {
   "cell_type": "code",
   "execution_count": 22,
   "metadata": {
    "scrolled": false
   },
   "outputs": [
    {
     "data": {
      "image/png": "[encoded data removed]",
      "text/plain": [
       "<Figure size 432x288 with 1 Axes>"
      ]
     },
     "metadata": {
      "needs_background": "light"
     },
     "output_type": "display_data"
    }
   ],
   "source": [
    "#Visualizing the data after the k-Means \n",
    "# Set up our color palette \n",
    "colors = [\"r.\",\"g.\",\"b.\",\"c.\",\"m.\"]\n",
    "# Plot each point\n",
    "for i in range(len(ACMA_Array)):\n",
    "    plt.plot(ACMA_Array[i][0], ACMA_Array[i][1], colors[labels[i]],alpha= 0.5, markersize = 10)\n",
    "# Generate the view\n",
    "plt.scatter(centroids[:, 0],centroids[:, 1], marker = \"x\", color='#030303',s=150, linewidths = 5)\n",
    "plt.xlabel('Avg per person', fontsize=10)\n",
    "plt.ylabel('Monthly Consumption', fontsize=10)\n",
    "plt.title(\"The Data Post-kmeans\")\n",
    "plt.show()"
   ]
  },
  {
   "cell_type": "code",
   "execution_count": 13,
   "metadata": {
    "scrolled": true
   },
   "outputs": [
    {
     "name": "stdout",
     "output_type": "stream",
     "text": [
      "       Consumption\n",
      "label             \n",
      "0               49\n",
      "1               34\n",
      "2               25        Consumption\n",
      "label             \n",
      "0      1654.489796\n",
      "1      4658.941176\n",
      "2      7289.160000\n"
     ]
    }
   ],
   "source": [
    "x= ACMA_DF.groupby([\"label\"])[['Consumption']].count()\n",
    "x2= ACMA_DF.groupby([\"label\"])[['Consumption']].mean()\n",
    "print(x, x2)\n"
   ]
  },
  {
   "cell_type": "code",
   "execution_count": 15,
   "metadata": {
    "scrolled": true
   },
   "outputs": [
    {
     "data": {
      "text/html": [
       "<div>\n",
       "<style scoped>\n",
       "    .dataframe tbody tr th:only-of-type {\n",
       "        vertical-align: middle;\n",
       "    }\n",
       "\n",
       "    .dataframe tbody tr th {\n",
       "        vertical-align: top;\n",
       "    }\n",
       "\n",
       "    .dataframe thead th {\n",
       "        text-align: right;\n",
       "    }\n",
       "</style>\n",
       "<table border=\"1\" class=\"dataframe\">\n",
       "  <thead>\n",
       "    <tr style=\"text-align: right;\">\n",
       "      <th></th>\n",
       "      <th>Date</th>\n",
       "      <th>Consumption</th>\n",
       "      <th>Meter</th>\n",
       "      <th>No_Occupants</th>\n",
       "      <th>Avg_person</th>\n",
       "      <th>Month</th>\n",
       "      <th>label</th>\n",
       "      <th>Category</th>\n",
       "    </tr>\n",
       "  </thead>\n",
       "  <tbody>\n",
       "    <tr>\n",
       "      <th>0</th>\n",
       "      <td>2022-01-22</td>\n",
       "      <td>2290</td>\n",
       "      <td>19240202</td>\n",
       "      <td>2</td>\n",
       "      <td>1145</td>\n",
       "      <td>1</td>\n",
       "      <td>0</td>\n",
       "      <td>Conservative</td>\n",
       "    </tr>\n",
       "    <tr>\n",
       "      <th>1</th>\n",
       "      <td>2022-02-22</td>\n",
       "      <td>4988</td>\n",
       "      <td>19240202</td>\n",
       "      <td>2</td>\n",
       "      <td>2494</td>\n",
       "      <td>2</td>\n",
       "      <td>1</td>\n",
       "      <td>Moderate</td>\n",
       "    </tr>\n",
       "    <tr>\n",
       "      <th>2</th>\n",
       "      <td>2022-03-22</td>\n",
       "      <td>4648</td>\n",
       "      <td>19240202</td>\n",
       "      <td>2</td>\n",
       "      <td>2324</td>\n",
       "      <td>3</td>\n",
       "      <td>1</td>\n",
       "      <td>Moderate</td>\n",
       "    </tr>\n",
       "    <tr>\n",
       "      <th>3</th>\n",
       "      <td>2022-04-22</td>\n",
       "      <td>5145</td>\n",
       "      <td>19240202</td>\n",
       "      <td>2</td>\n",
       "      <td>2572</td>\n",
       "      <td>4</td>\n",
       "      <td>1</td>\n",
       "      <td>Moderate</td>\n",
       "    </tr>\n",
       "    <tr>\n",
       "      <th>4</th>\n",
       "      <td>2022-05-22</td>\n",
       "      <td>5887</td>\n",
       "      <td>19240202</td>\n",
       "      <td>2</td>\n",
       "      <td>2943</td>\n",
       "      <td>5</td>\n",
       "      <td>2</td>\n",
       "      <td>Risky</td>\n",
       "    </tr>\n",
       "    <tr>\n",
       "      <th>...</th>\n",
       "      <td>...</td>\n",
       "      <td>...</td>\n",
       "      <td>...</td>\n",
       "      <td>...</td>\n",
       "      <td>...</td>\n",
       "      <td>...</td>\n",
       "      <td>...</td>\n",
       "      <td>...</td>\n",
       "    </tr>\n",
       "    <tr>\n",
       "      <th>103</th>\n",
       "      <td>2022-12-24</td>\n",
       "      <td>1597</td>\n",
       "      <td>19240218</td>\n",
       "      <td>2</td>\n",
       "      <td>798</td>\n",
       "      <td>12</td>\n",
       "      <td>0</td>\n",
       "      <td>Conservative</td>\n",
       "    </tr>\n",
       "    <tr>\n",
       "      <th>104</th>\n",
       "      <td>2022-12-24</td>\n",
       "      <td>1771</td>\n",
       "      <td>19240215</td>\n",
       "      <td>2</td>\n",
       "      <td>885</td>\n",
       "      <td>12</td>\n",
       "      <td>0</td>\n",
       "      <td>Conservative</td>\n",
       "    </tr>\n",
       "    <tr>\n",
       "      <th>105</th>\n",
       "      <td>2022-12-24</td>\n",
       "      <td>5656</td>\n",
       "      <td>19240210</td>\n",
       "      <td>4</td>\n",
       "      <td>1414</td>\n",
       "      <td>12</td>\n",
       "      <td>1</td>\n",
       "      <td>Moderate</td>\n",
       "    </tr>\n",
       "    <tr>\n",
       "      <th>106</th>\n",
       "      <td>2022-12-24</td>\n",
       "      <td>2429</td>\n",
       "      <td>19240219</td>\n",
       "      <td>3</td>\n",
       "      <td>809</td>\n",
       "      <td>12</td>\n",
       "      <td>0</td>\n",
       "      <td>Conservative</td>\n",
       "    </tr>\n",
       "    <tr>\n",
       "      <th>107</th>\n",
       "      <td>2022-12-25</td>\n",
       "      <td>7752</td>\n",
       "      <td>19240220</td>\n",
       "      <td>4</td>\n",
       "      <td>1938</td>\n",
       "      <td>12</td>\n",
       "      <td>2</td>\n",
       "      <td>Risky</td>\n",
       "    </tr>\n",
       "  </tbody>\n",
       "</table>\n",
       "<p>108 rows × 8 columns</p>\n",
       "</div>"
      ],
      "text/plain": [
       "          Date  Consumption     Meter  No_Occupants  Avg_person  Month  label  \\\n",
       "0   2022-01-22         2290  19240202             2        1145      1      0   \n",
       "1   2022-02-22         4988  19240202             2        2494      2      1   \n",
       "2   2022-03-22         4648  19240202             2        2324      3      1   \n",
       "3   2022-04-22         5145  19240202             2        2572      4      1   \n",
       "4   2022-05-22         5887  19240202             2        2943      5      2   \n",
       "..         ...          ...       ...           ...         ...    ...    ...   \n",
       "103 2022-12-24         1597  19240218             2         798     12      0   \n",
       "104 2022-12-24         1771  19240215             2         885     12      0   \n",
       "105 2022-12-24         5656  19240210             4        1414     12      1   \n",
       "106 2022-12-24         2429  19240219             3         809     12      0   \n",
       "107 2022-12-25         7752  19240220             4        1938     12      2   \n",
       "\n",
       "         Category  \n",
       "0    Conservative  \n",
       "1        Moderate  \n",
       "2        Moderate  \n",
       "3        Moderate  \n",
       "4           Risky  \n",
       "..            ...  \n",
       "103  Conservative  \n",
       "104  Conservative  \n",
       "105      Moderate  \n",
       "106  Conservative  \n",
       "107         Risky  \n",
       "\n",
       "[108 rows x 8 columns]"
      ]
     },
     "execution_count": 15,
     "metadata": {},
     "output_type": "execute_result"
    }
   ],
   "source": [
    "#Adding the Consumption Category (Risky, Moderate or conservative)\n",
    "\n",
    "ACMA_DF[\"Category\"]=[\"Risky\" if (x == 2) else \"Moderate\" if (x == 1) else \"Conservative\" \n",
    "                for x in ACMA_DF['label']  ]\n",
    "\n",
    "ACMA_DF"
   ]
  },
  {
   "cell_type": "markdown",
   "metadata": {},
   "source": [
    "### 5. Report Outputs"
   ]
  },
  {
   "cell_type": "code",
   "execution_count": 24,
   "metadata": {},
   "outputs": [
    {
     "data": {
      "text/html": [
       "<div>\n",
       "<style scoped>\n",
       "    .dataframe tbody tr th:only-of-type {\n",
       "        vertical-align: middle;\n",
       "    }\n",
       "\n",
       "    .dataframe tbody tr th {\n",
       "        vertical-align: top;\n",
       "    }\n",
       "\n",
       "    .dataframe thead th {\n",
       "        text-align: right;\n",
       "    }\n",
       "</style>\n",
       "<table border=\"1\" class=\"dataframe\">\n",
       "  <thead>\n",
       "    <tr style=\"text-align: right;\">\n",
       "      <th></th>\n",
       "      <th>Consumption</th>\n",
       "    </tr>\n",
       "    <tr>\n",
       "      <th>Month</th>\n",
       "      <th></th>\n",
       "    </tr>\n",
       "  </thead>\n",
       "  <tbody>\n",
       "    <tr>\n",
       "      <th>1</th>\n",
       "      <td>33200</td>\n",
       "    </tr>\n",
       "    <tr>\n",
       "      <th>2</th>\n",
       "      <td>47591</td>\n",
       "    </tr>\n",
       "    <tr>\n",
       "      <th>3</th>\n",
       "      <td>37213</td>\n",
       "    </tr>\n",
       "    <tr>\n",
       "      <th>4</th>\n",
       "      <td>30238</td>\n",
       "    </tr>\n",
       "    <tr>\n",
       "      <th>5</th>\n",
       "      <td>40808</td>\n",
       "    </tr>\n",
       "    <tr>\n",
       "      <th>6</th>\n",
       "      <td>30753</td>\n",
       "    </tr>\n",
       "    <tr>\n",
       "      <th>7</th>\n",
       "      <td>29418</td>\n",
       "    </tr>\n",
       "    <tr>\n",
       "      <th>8</th>\n",
       "      <td>33308</td>\n",
       "    </tr>\n",
       "    <tr>\n",
       "      <th>9</th>\n",
       "      <td>32852</td>\n",
       "    </tr>\n",
       "    <tr>\n",
       "      <th>10</th>\n",
       "      <td>36437</td>\n",
       "    </tr>\n",
       "    <tr>\n",
       "      <th>11</th>\n",
       "      <td>34949</td>\n",
       "    </tr>\n",
       "    <tr>\n",
       "      <th>12</th>\n",
       "      <td>34936</td>\n",
       "    </tr>\n",
       "  </tbody>\n",
       "</table>\n",
       "</div>"
      ],
      "text/plain": [
       "       Consumption\n",
       "Month             \n",
       "1            33200\n",
       "2            47591\n",
       "3            37213\n",
       "4            30238\n",
       "5            40808\n",
       "6            30753\n",
       "7            29418\n",
       "8            33308\n",
       "9            32852\n",
       "10           36437\n",
       "11           34949\n",
       "12           34936"
      ]
     },
     "execution_count": 24,
     "metadata": {},
     "output_type": "execute_result"
    }
   ],
   "source": [
    "#Property Monthly consmption\n",
    "ACMA_DF.groupby([\"Month\"])[[\"Consumption\"]].sum()"
   ]
  },
  {
   "cell_type": "code",
   "execution_count": 26,
   "metadata": {
    "scrolled": true
   },
   "outputs": [
    {
     "data": {
      "text/html": [
       "<div>\n",
       "<style scoped>\n",
       "    .dataframe tbody tr th:only-of-type {\n",
       "        vertical-align: middle;\n",
       "    }\n",
       "\n",
       "    .dataframe tbody tr th {\n",
       "        vertical-align: top;\n",
       "    }\n",
       "\n",
       "    .dataframe thead th {\n",
       "        text-align: right;\n",
       "    }\n",
       "</style>\n",
       "<table border=\"1\" class=\"dataframe\">\n",
       "  <thead>\n",
       "    <tr style=\"text-align: right;\">\n",
       "      <th></th>\n",
       "      <th>Consumption</th>\n",
       "    </tr>\n",
       "    <tr>\n",
       "      <th>Meter</th>\n",
       "      <th></th>\n",
       "    </tr>\n",
       "  </thead>\n",
       "  <tbody>\n",
       "    <tr>\n",
       "      <th>19240202</th>\n",
       "      <td>55075</td>\n",
       "    </tr>\n",
       "    <tr>\n",
       "      <th>19240208</th>\n",
       "      <td>79972</td>\n",
       "    </tr>\n",
       "    <tr>\n",
       "      <th>19240210</th>\n",
       "      <td>68603</td>\n",
       "    </tr>\n",
       "    <tr>\n",
       "      <th>19240215</th>\n",
       "      <td>19769</td>\n",
       "    </tr>\n",
       "    <tr>\n",
       "      <th>19240216</th>\n",
       "      <td>26597</td>\n",
       "    </tr>\n",
       "    <tr>\n",
       "      <th>19240218</th>\n",
       "      <td>10788</td>\n",
       "    </tr>\n",
       "    <tr>\n",
       "      <th>19240219</th>\n",
       "      <td>31063</td>\n",
       "    </tr>\n",
       "    <tr>\n",
       "      <th>19240220</th>\n",
       "      <td>85764</td>\n",
       "    </tr>\n",
       "    <tr>\n",
       "      <th>19240221</th>\n",
       "      <td>44072</td>\n",
       "    </tr>\n",
       "  </tbody>\n",
       "</table>\n",
       "</div>"
      ],
      "text/plain": [
       "          Consumption\n",
       "Meter                \n",
       "19240202        55075\n",
       "19240208        79972\n",
       "19240210        68603\n",
       "19240215        19769\n",
       "19240216        26597\n",
       "19240218        10788\n",
       "19240219        31063\n",
       "19240220        85764\n",
       "19240221        44072"
      ]
     },
     "execution_count": 26,
     "metadata": {},
     "output_type": "execute_result"
    }
   ],
   "source": [
    "#The meters yearly consumption \n",
    "ACMA_Monthly_cons20222= ACMA_DF.groupby([\"Meter\"])[[\"Consumption\"]].sum()\n",
    "#ACMA_Monthly_cons20222.to_excel(\"ACMA_Monthly_cons2022.xlsx\")\n",
    "ACMA_Monthly_cons20222"
   ]
  },
  {
   "cell_type": "code",
   "execution_count": 27,
   "metadata": {},
   "outputs": [
    {
     "data": {
      "text/html": [
       "<div>\n",
       "<style scoped>\n",
       "    .dataframe tbody tr th:only-of-type {\n",
       "        vertical-align: middle;\n",
       "    }\n",
       "\n",
       "    .dataframe tbody tr th {\n",
       "        vertical-align: top;\n",
       "    }\n",
       "\n",
       "    .dataframe thead th {\n",
       "        text-align: right;\n",
       "    }\n",
       "</style>\n",
       "<table border=\"1\" class=\"dataframe\">\n",
       "  <thead>\n",
       "    <tr style=\"text-align: right;\">\n",
       "      <th></th>\n",
       "      <th></th>\n",
       "      <th>Category</th>\n",
       "    </tr>\n",
       "    <tr>\n",
       "      <th>Meter</th>\n",
       "      <th>Category</th>\n",
       "      <th></th>\n",
       "    </tr>\n",
       "  </thead>\n",
       "  <tbody>\n",
       "    <tr>\n",
       "      <th rowspan=\"3\" valign=\"top\">19240202</th>\n",
       "      <th>Conservative</th>\n",
       "      <td>1</td>\n",
       "    </tr>\n",
       "    <tr>\n",
       "      <th>Moderate</th>\n",
       "      <td>9</td>\n",
       "    </tr>\n",
       "    <tr>\n",
       "      <th>Risky</th>\n",
       "      <td>2</td>\n",
       "    </tr>\n",
       "    <tr>\n",
       "      <th rowspan=\"2\" valign=\"top\">19240208</th>\n",
       "      <th>Moderate</th>\n",
       "      <td>3</td>\n",
       "    </tr>\n",
       "    <tr>\n",
       "      <th>Risky</th>\n",
       "      <td>9</td>\n",
       "    </tr>\n",
       "    <tr>\n",
       "      <th rowspan=\"2\" valign=\"top\">19240210</th>\n",
       "      <th>Moderate</th>\n",
       "      <td>9</td>\n",
       "    </tr>\n",
       "    <tr>\n",
       "      <th>Risky</th>\n",
       "      <td>3</td>\n",
       "    </tr>\n",
       "    <tr>\n",
       "      <th>19240215</th>\n",
       "      <th>Conservative</th>\n",
       "      <td>12</td>\n",
       "    </tr>\n",
       "    <tr>\n",
       "      <th rowspan=\"2\" valign=\"top\">19240216</th>\n",
       "      <th>Conservative</th>\n",
       "      <td>8</td>\n",
       "    </tr>\n",
       "    <tr>\n",
       "      <th>Moderate</th>\n",
       "      <td>4</td>\n",
       "    </tr>\n",
       "    <tr>\n",
       "      <th>19240218</th>\n",
       "      <th>Conservative</th>\n",
       "      <td>12</td>\n",
       "    </tr>\n",
       "    <tr>\n",
       "      <th rowspan=\"2\" valign=\"top\">19240219</th>\n",
       "      <th>Conservative</th>\n",
       "      <td>10</td>\n",
       "    </tr>\n",
       "    <tr>\n",
       "      <th>Moderate</th>\n",
       "      <td>2</td>\n",
       "    </tr>\n",
       "    <tr>\n",
       "      <th rowspan=\"3\" valign=\"top\">19240220</th>\n",
       "      <th>Conservative</th>\n",
       "      <td>1</td>\n",
       "    </tr>\n",
       "    <tr>\n",
       "      <th>Moderate</th>\n",
       "      <td>2</td>\n",
       "    </tr>\n",
       "    <tr>\n",
       "      <th>Risky</th>\n",
       "      <td>9</td>\n",
       "    </tr>\n",
       "    <tr>\n",
       "      <th rowspan=\"3\" valign=\"top\">19240221</th>\n",
       "      <th>Conservative</th>\n",
       "      <td>5</td>\n",
       "    </tr>\n",
       "    <tr>\n",
       "      <th>Moderate</th>\n",
       "      <td>5</td>\n",
       "    </tr>\n",
       "    <tr>\n",
       "      <th>Risky</th>\n",
       "      <td>2</td>\n",
       "    </tr>\n",
       "  </tbody>\n",
       "</table>\n",
       "</div>"
      ],
      "text/plain": [
       "                       Category\n",
       "Meter    Category              \n",
       "19240202 Conservative         1\n",
       "         Moderate             9\n",
       "         Risky                2\n",
       "19240208 Moderate             3\n",
       "         Risky                9\n",
       "19240210 Moderate             9\n",
       "         Risky                3\n",
       "19240215 Conservative        12\n",
       "19240216 Conservative         8\n",
       "         Moderate             4\n",
       "19240218 Conservative        12\n",
       "19240219 Conservative        10\n",
       "         Moderate             2\n",
       "19240220 Conservative         1\n",
       "         Moderate             2\n",
       "         Risky                9\n",
       "19240221 Conservative         5\n",
       "         Moderate             5\n",
       "         Risky                2"
      ]
     },
     "execution_count": 27,
     "metadata": {},
     "output_type": "execute_result"
    }
   ],
   "source": [
    "#The overall consumption Behavior & associated Risks \n",
    "Behaveor= ACMA_DF.groupby([\"Meter\", \"Category\" ])[['Category']].count()\n",
    "Behaveor\n"
   ]
  },
  {
   "cell_type": "markdown",
   "metadata": {},
   "source": [
    "### 6. Setting the Consumption Cap "
   ]
  },
  {
   "cell_type": "code",
   "execution_count": 63,
   "metadata": {
    "scrolled": true
   },
   "outputs": [
    {
     "name": "stdout",
     "output_type": "stream",
     "text": [
      "The Monthly Consumption Cap:\n",
      "Risky Category: 7289.16\n",
      "Moderate Category: 4658.941176470588\n",
      "Conservative Category: 1654.4897959183672\n"
     ]
    }
   ],
   "source": [
    "#The averge of each catgory will be the Monthly cap\n",
    "Risky= ACMA_DF[ACMA_DF.label==2]\n",
    "Moderate= ACMA_DF[ACMA_DF.label==1]\n",
    "Conservative= ACMA_DF[ACMA_DF.label==0]\n",
    "print (\"The Monthly Consumption Cap:\\nRisky Category: \" + str(Risky.Consumption.mean())\n",
    "      + \"\\nModerate Category: \" + str(Moderate.Consumption.mean()) \n",
    "      + \"\\nConservative Category: \" + str(Conservative.Consumption.mean()) \n",
    "      )\n"
   ]
  }
 ],
 "metadata": {
  "kernelspec": {
   "display_name": "Python 3",
   "language": "python",
   "name": "python3"
  },
  "language_info": {
   "codemirror_mode": {
    "name": "ipython",
    "version": 3
   },
   "file_extension": ".py",
   "mimetype": "text/x-python",
   "name": "python",
   "nbconvert_exporter": "python",
   "pygments_lexer": "ipython3",
   "version": "3.7.6"
  }
 },
 "nbformat": 4,
 "nbformat_minor": 4
}
